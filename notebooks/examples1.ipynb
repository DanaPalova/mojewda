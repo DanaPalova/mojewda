{
 "cells": [
  {
   "cell_type": "markdown",
   "metadata": {},
   "source": [
    "## Úloha 1.6\n",
    "\n",
    "Otestujte, či zadaná hodnota obsahuje neprázdny reťazec. Hodnota môže byť aj `None`."
   ]
  },
  {
   "cell_type": "code",
   "execution_count": 29,
   "metadata": {},
   "outputs": [
    {
     "data": {
      "text/plain": [
       "False"
      ]
     },
     "execution_count": 29,
     "metadata": {},
     "output_type": "execute_result"
    }
   ],
   "source": [
    "value1 = \"\"\n",
    "# = False\n",
    "value1 !=\"\" and value1 is not None  "
   ]
  },
  {
   "cell_type": "code",
   "execution_count": 31,
   "metadata": {},
   "outputs": [
    {
     "data": {
      "text/plain": [
       "False"
      ]
     },
     "execution_count": 31,
     "metadata": {},
     "output_type": "execute_result"
    }
   ],
   "source": [
    "value2 = None\n",
    "# = False\n",
    "value2 is not None and value2 !=\"\"  "
   ]
  },
  {
   "cell_type": "code",
   "execution_count": 30,
   "metadata": {},
   "outputs": [
    {
     "data": {
      "text/plain": [
       "True"
      ]
     },
     "execution_count": 30,
     "metadata": {},
     "output_type": "execute_result"
    }
   ],
   "source": [
    "value3 = \"Python\"\n",
    "# = True\n",
    "value3 is not None and value3 !=\"\"  "
   ]
  },
  {
   "cell_type": "markdown",
   "metadata": {},
   "source": [
    "## Úloha 1.7\n",
    "\n",
    "Pomocou operátora `%` zaokrúhlite nasledujúce hodnoty na najbližší vyšší násobok 10."
   ]
  },
  {
   "cell_type": "code",
   "execution_count": 78,
   "metadata": {},
   "outputs": [
    {
     "name": "stdout",
     "output_type": "stream",
     "text": [
      "20\n"
     ]
    }
   ],
   "source": [
    "value = 13 # očakávaná hodnota 20\n",
    "zvysok=value%10\n",
    "vysledok=value+(10-zvysok)\n",
    "print(vysledok)\n",
    "\n"
   ]
  },
  {
   "cell_type": "code",
   "execution_count": 80,
   "metadata": {},
   "outputs": [
    {
     "name": "stdout",
     "output_type": "stream",
     "text": [
      "110\n"
     ]
    }
   ],
   "source": [
    "value1 = 101 # očakávaná hodnota 110\n",
    "zvysok=value1%10\n",
    "vysledok=value1+(10-zvysok)\n",
    "print(vysledok)"
   ]
  },
  {
   "cell_type": "markdown",
   "metadata": {},
   "source": [
    "## Úloha 1.8\n",
    "\n",
    "Otestujte, či druhý znak reťazca je písmeno `a` a predposledný znak písmeno `z`."
   ]
  },
  {
   "cell_type": "code",
   "execution_count": 44,
   "metadata": {},
   "outputs": [
    {
     "data": {
      "text/plain": [
       "False"
      ]
     },
     "execution_count": 44,
     "metadata": {},
     "output_type": "execute_result"
    }
   ],
   "source": [
    "s = \"abcza\"\n",
    "# = False\n",
    "s[1]==\"a\" and s[-2]==\"z\"\n"
   ]
  },
  {
   "cell_type": "code",
   "execution_count": 45,
   "metadata": {},
   "outputs": [
    {
     "data": {
      "text/plain": [
       "True"
      ]
     },
     "execution_count": 45,
     "metadata": {},
     "output_type": "execute_result"
    }
   ],
   "source": [
    "s = \"bacza\"\n",
    "# = True\n",
    "s[1]==\"a\" and s[-2]==\"z\""
   ]
  },
  {
   "cell_type": "code",
   "execution_count": 46,
   "metadata": {},
   "outputs": [
    {
     "data": {
      "text/plain": [
       "False"
      ]
     },
     "execution_count": 46,
     "metadata": {},
     "output_type": "execute_result"
    }
   ],
   "source": [
    "s = \"bacaz\"\n",
    "# = False\n",
    "s[1]==\"a\" and s[-2]==\"z\""
   ]
  },
  {
   "cell_type": "markdown",
   "metadata": {},
   "source": [
    "## Úloha 1.9\n",
    "\n",
    "Vydeľte dve číselné hodnoty v reťazcoch a výsledok vypíšte na 4 desatinné miesta. Všimnite si, že Python používa ako znak desatinnej čiarky `.`, tzn. pri druhom čísle musíte najprv nahradiť znak `,` za `.`. Pred delením musíte hodnoty skonvertovať z reťazcov na čísla."
   ]
  },
  {
   "cell_type": "code",
   "execution_count": 53,
   "metadata": {},
   "outputs": [
    {
     "name": "stdout",
     "output_type": "stream",
     "text": [
      "3.1847\n"
     ]
    }
   ],
   "source": [
    "value1 = \"10\"\n",
    "value2 = \"3.14\"\n",
    "value1=int(value1)\n",
    "value2=float(value2)\n",
    "delenie=value1/value2\n",
    "print(\"{0:.4f}\".format(delenie))\n"
   ]
  },
  {
   "cell_type": "markdown",
   "metadata": {},
   "source": [
    "## Úloha 1.10\n",
    "\n",
    "Napíšte výraz, ktorý sa vyhodnotí na `True` ak meno používateľa obsahuje jeho heslo so zanedbaním veľkosti písmen."
   ]
  },
  {
   "cell_type": "code",
   "execution_count": 63,
   "metadata": {},
   "outputs": [
    {
     "data": {
      "text/plain": [
       "False"
      ]
     },
     "execution_count": 63,
     "metadata": {},
     "output_type": "execute_result"
    }
   ],
   "source": [
    "username = \"Peter\"\n",
    "password = \"123\"\n",
    "# = False\n",
    "username.find(password)!=-1"
   ]
  },
  {
   "cell_type": "code",
   "execution_count": 67,
   "metadata": {},
   "outputs": [
    {
     "name": "stdout",
     "output_type": "stream",
     "text": [
      "123peter\n"
     ]
    },
    {
     "data": {
      "text/plain": [
       "True"
      ]
     },
     "execution_count": 67,
     "metadata": {},
     "output_type": "execute_result"
    }
   ],
   "source": [
    "username = \"123Peter\"\n",
    "password = \"peter\"\n",
    "# = True\n",
    "u1=username.lower()\n",
    "p1=password.lower()\n",
    "u1.find(p1)!=-1"
   ]
  },
  {
   "cell_type": "code",
   "execution_count": 68,
   "metadata": {},
   "outputs": [
    {
     "data": {
      "text/plain": [
       "True"
      ]
     },
     "execution_count": 68,
     "metadata": {},
     "output_type": "execute_result"
    }
   ],
   "source": [
    "username = \"peter123\"\n",
    "password = \"PeTeR\"\n",
    "# = True\n",
    "u1=username.lower()\n",
    "p1=password.lower()\n",
    "u1.find(p1)!=-1\n"
   ]
  },
  {
   "cell_type": "code",
   "execution_count": 69,
   "metadata": {},
   "outputs": [
    {
     "data": {
      "text/plain": [
       "False"
      ]
     },
     "execution_count": 69,
     "metadata": {},
     "output_type": "execute_result"
    }
   ],
   "source": [
    "username = \"peter\"\n",
    "password = \"peter123\"\n",
    "# = False\n",
    "u1=username.lower()\n",
    "p1=password.lower()\n",
    "u1.find(p1)!=-1"
   ]
  },
  {
   "cell_type": "markdown",
   "metadata": {},
   "source": [
    "## Úloha 1.11\n",
    "\n",
    "Pomocou formátovacích reťazcov pre zadanú premennu `error` vypíšte správu v tvare `chyba: [hodnota chyby na 3 desatinné miesta], presnosť: [percentuálna hodnota presnosti na jedno desatinné miesto] %)`. Presnosť sa vypočíta ako 1 - chyba."
   ]
  },
  {
   "cell_type": "code",
   "execution_count": 74,
   "metadata": {},
   "outputs": [
    {
     "name": "stdout",
     "output_type": "stream",
     "text": [
      "chyba: 0.027 , presnosť: 97.3  %\n"
     ]
    }
   ],
   "source": [
    "error = 27/1000\n",
    "print(\"chyba:\",\"{0:.3f}\".format(error),\", presnosť:\", \"{0:.1f}\".format(100 - (error*100)),\" %\")\n",
    "# vypíše správu `chyba: 0.027, presnosť: 97.3 %`"
   ]
  }
 ],
 "metadata": {
  "kernelspec": {
   "display_name": "Python 3",
   "language": "python",
   "name": "python3"
  },
  "language_info": {
   "codemirror_mode": {
    "name": "ipython",
    "version": 3
   },
   "file_extension": ".py",
   "mimetype": "text/x-python",
   "name": "python",
   "nbconvert_exporter": "python",
   "pygments_lexer": "ipython3",
   "version": "3.7.4"
  }
 },
 "nbformat": 4,
 "nbformat_minor": 4
}
